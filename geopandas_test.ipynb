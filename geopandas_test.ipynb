{
 "cells": [
  {
   "cell_type": "markdown",
   "id": "15877d2c",
   "metadata": {},
   "source": [
    "# Scraping and displaying international information"
   ]
  },
  {
   "cell_type": "markdown",
   "id": "20c21af8",
   "metadata": {},
   "source": [
    "## Gather the QS ranking data"
   ]
  },
  {
   "cell_type": "code",
   "execution_count": null,
   "id": "0fa7625e",
   "metadata": {},
   "outputs": [],
   "source": [
    "import pandas as pd"
   ]
  },
  {
   "cell_type": "code",
   "execution_count": null,
   "id": "a4a08ab7",
   "metadata": {},
   "outputs": [],
   "source": [
    "# Here using code from stackoverflow user 10987432/paul-m, adapted to scrape all the component data from QS 2022\n",
    "# How do we extract different years? Not sure yet..."
   ]
  },
  {
   "cell_type": "code",
   "execution_count": null,
   "id": "bb76f7eb",
   "metadata": {},
   "outputs": [],
   "source": [
    "def get_entries():\n",
    "    import requests\n",
    "\n",
    "    url = \"https://www.topuniversities.com/sites/default/files/qs-rankings-data/en/3740566_indicators.txt?1637817445?v=1637823042256\"\n",
    "\n",
    "    headers = {\n",
    "        \"user-agent\": \"Mozilla/5.0\",\n",
    "        \"x-requested-with\": \"XMLHttpRequest\"\n",
    "    }\n",
    "\n",
    "    response = requests.get(url, headers=headers)\n",
    "    response.raise_for_status()\n",
    "\n",
    "    def make_pretty(entry):\n",
    "        from bs4 import BeautifulSoup as Soup\n",
    "        return {\n",
    "            \"name\": Soup(entry[\"uni\"], \"html.parser\").select_one(\".uni-link\").get_text(strip=True),\n",
    "            \"region\": entry[\"region\"],\n",
    "            \"location\": entry[\"location\"],\n",
    "            \"city\": entry[\"city\"],\n",
    "            \"rank\": entry[\"overall_rank\"],\n",
    "            \"overallscore\": Soup(entry[\"overall\"], \"html.parser\").select_one(\".td-wrap-in\").get_text(strip=True),\n",
    "            \"internationalfacultyratio\": Soup(entry[\"ind_18\"], \"html.parser\").select_one(\".td-wrap-in\").get_text(strip=True),\n",
    "            \"academicreputation\": Soup(entry[\"ind_76\"], \"html.parser\").select_one(\".td-wrap-in\").get_text(strip=True),\n",
    "            \"citations\": Soup(entry[\"ind_73\"], \"html.parser\").select_one(\".td-wrap-in\").get_text(strip=True),\n",
    "            \"facultystudentratio\": Soup(entry[\"ind_36\"], \"html.parser\").select_one(\".td-wrap-in\").get_text(strip=True),\n",
    "            \"employerrep\": Soup(entry[\"ind_77\"], \"html.parser\").select_one(\".td-wrap-in\").get_text(strip=True),\n",
    "            \"internationalstudentratio\": Soup(entry[\"ind_14\"], \"html.parser\").select_one(\".td-wrap-in\").get_text(strip=True)\n",
    "        }\n",
    "\n",
    "    yield from map(make_pretty, response.json()[\"data\"])\n",
    "\n",
    "#def main():\n",
    "    \n",
    "#    from itertools import islice\n",
    "\n",
    "    #for entry in islice(get_entries(), 5):\n",
    "        #print(entry)\n",
    "    \n",
    "#    return 0\n",
    "\n",
    "\n",
    "#if __name__ == \"__main__\":\n",
    "#    import sys\n",
    "#    sys.exit(main())"
   ]
  },
  {
   "cell_type": "code",
   "execution_count": null,
   "id": "19db879a",
   "metadata": {},
   "outputs": [],
   "source": [
    "# This runs the above scrape and puts the data into a pandas dataframe:\n",
    "qs2022 = pd.DataFrame(get_entries())"
   ]
  },
  {
   "cell_type": "code",
   "execution_count": null,
   "id": "bf185a6c",
   "metadata": {},
   "outputs": [],
   "source": [
    "# There are 1300 institutions in the 2022 rankings:\n",
    "len(qs2022)"
   ]
  },
  {
   "cell_type": "code",
   "execution_count": null,
   "id": "fdb418db",
   "metadata": {},
   "outputs": [],
   "source": [
    "# The data (first and last few rows) looks like this - overall scores plus individual components measures included, as well as\n",
    "# institute name, region (=continent), location (=country) and city\n",
    "qs2022"
   ]
  },
  {
   "cell_type": "code",
   "execution_count": null,
   "id": "7f4477ce",
   "metadata": {},
   "outputs": [],
   "source": [
    "# I want to clean the data a little bit\n",
    "# (i) keep the name of institution only up to the first comma or bracket, to avoid issues later\n",
    "# (ii) make a new column \"place\", which is \"city, country\". This is for the geographic data - for most institutions I can find\n",
    "# geographical, but maybe not for those written in Arabic etc; \"city\" is not enough, as e.g., both U Cambridge and MIT are in \n",
    "# \"Cambridge\", so need country to distinguish"
   ]
  },
  {
   "cell_type": "code",
   "execution_count": null,
   "id": "bfa69dba",
   "metadata": {},
   "outputs": [],
   "source": [
    "# (i) only keep names up to the first comma or bracket\n",
    "qs2022['name'] = qs2022.name.apply(lambda x: x.split(',')[0])\n",
    "qs2022['name'] = qs2022.name.apply(lambda x: x.split('(')[0])\n",
    "# (ii) make new \"place\" column\n",
    "qs2022['place'] = qs2022.city+', '+qs2022.location"
   ]
  },
  {
   "cell_type": "code",
   "execution_count": null,
   "id": "446d1adb",
   "metadata": {},
   "outputs": [],
   "source": [
    "qs2022"
   ]
  },
  {
   "cell_type": "code",
   "execution_count": null,
   "id": "c4b10147",
   "metadata": {},
   "outputs": [],
   "source": [
    "# Now we add the location data in latitude, longitude form, using Nominatim.\n",
    "# This first tries to find the location from the \"name\" of institution, but if this fails (rare, but happens), it \n",
    "# uses the \"place\""
   ]
  },
  {
   "cell_type": "code",
   "execution_count": null,
   "id": "6d2ad693",
   "metadata": {},
   "outputs": [],
   "source": [
    "from geopy.geocoders import Nominatim\n",
    "geolocator = Nominatim(user_agent=\"StackOverFlow\", timeout=3)"
   ]
  },
  {
   "cell_type": "code",
   "execution_count": null,
   "id": "ad466373",
   "metadata": {},
   "outputs": [],
   "source": [
    "# This takes a long time to look up all 1300 locations so don't run it every time!\n",
    "\n",
    "#locations = []\n",
    "#for i in range(len(qs2022)):\n",
    "#    location_from_nominatim = geolocator.geocode(qs2022['name'][i], addressdetails=True, language='en')\n",
    "#    if location_from_nominatim!=None:\n",
    "#        locations.append(location_from_nominatim)\n",
    "#    else:\n",
    "#        locations.append(geolocator.geocode(qs2022['place'][i], addressdetails=True, language='en'))\n",
    "        \n",
    "# qs2022[\"location_info\"] = locations \n"
   ]
  },
  {
   "cell_type": "code",
   "execution_count": null,
   "id": "bdbc037c",
   "metadata": {},
   "outputs": [],
   "source": [
    "# I think I had to fix a single entry manually...\n",
    "\n",
    "# qs2022.at[294,'location_info'] = geolocator.geocode('xian jiaotong university', addressdetails=True, language='en')"
   ]
  },
  {
   "cell_type": "code",
   "execution_count": null,
   "id": "154a56e9",
   "metadata": {},
   "outputs": [],
   "source": [
    "# For ease later we'll make separate columns for latitude and longitude\n",
    "\n",
    "# qs2022['latitude'] = qs2022.location_info.apply(lambda x: x.raw['lat'])\n",
    "# qs2022['longitude'] = qs2022.location_info.apply(lambda x: x.raw['lon'])"
   ]
  },
  {
   "cell_type": "code",
   "execution_count": null,
   "id": "2273df91",
   "metadata": {},
   "outputs": [],
   "source": [
    "# Because it takes a long time, here I just save the data to a csv file so I can read it in again\n",
    "\n",
    "#qs2022.to_csv('qs2022_data.csv')"
   ]
  },
  {
   "cell_type": "code",
   "execution_count": null,
   "id": "65c0e903",
   "metadata": {},
   "outputs": [],
   "source": [
    "qs2022data = pd.read_csv('qs2022_data.csv')"
   ]
  },
  {
   "cell_type": "code",
   "execution_count": null,
   "id": "ebe23f18",
   "metadata": {},
   "outputs": [],
   "source": [
    "# So here is the QS data with latitude and longitude data for each institution\n",
    "\n",
    "qs2022data"
   ]
  },
  {
   "cell_type": "code",
   "execution_count": null,
   "id": "0b34af6b",
   "metadata": {},
   "outputs": [],
   "source": [
    "# now we have latitudes and longitudes for every university in the QS2022 rankings, along with all the QS ranking data"
   ]
  },
  {
   "cell_type": "markdown",
   "id": "cf103e86",
   "metadata": {},
   "source": [
    "## Plotting the data on a map"
   ]
  },
  {
   "cell_type": "code",
   "execution_count": null,
   "id": "da2e15a9",
   "metadata": {},
   "outputs": [],
   "source": [
    "%matplotlib inline\n",
    "import matplotlib.pyplot as plt\n",
    "from mpl_toolkits.basemap import Basemap"
   ]
  },
  {
   "cell_type": "code",
   "execution_count": null,
   "id": "31e18e6b",
   "metadata": {},
   "outputs": [],
   "source": [
    "# Basemap has a bunch of map projections and other basic data preloaded. "
   ]
  },
  {
   "cell_type": "code",
   "execution_count": null,
   "id": "f28bca76",
   "metadata": {},
   "outputs": [],
   "source": [
    "# In case we need it I downloaded a list of countries with latitude and longitude data, but I don't think it's necessary\n",
    "# I don't know what \"importance\" means either!\n",
    "countries = \"countries.csv\"\n",
    "country_data = pd.read_csv(countries)"
   ]
  },
  {
   "cell_type": "code",
   "execution_count": null,
   "id": "eb7a5e47",
   "metadata": {},
   "outputs": [],
   "source": [
    "country_data"
   ]
  },
  {
   "cell_type": "code",
   "execution_count": null,
   "id": "4cfe7f21",
   "metadata": {},
   "outputs": [],
   "source": [
    "fig = plt.figure(figsize=(12,9))"
   ]
  },
  {
   "cell_type": "code",
   "execution_count": null,
   "id": "bde1d183",
   "metadata": {},
   "outputs": [],
   "source": [
    "# We can use Basemap to draw a basic map of the world, choosing a particular projection, e.g. choose one of\n",
    "\n",
    "#m = Basemap(projection = 'mill', llcrnrlat = -90, urcrnrlat = 90, llcrnrlon = -180, urcrnrlon = 180, resolution = 'c')\n",
    "#m = Basemap(projection = 'moll', lon_0 = 0, resolution = 'c')\n",
    "#m = Basemap(projection='gall',llcrnrlat=-60,urcrnrlat=80,llcrnrlon=-180,urcrnrlon=180,resolution='c')\n",
    "m = Basemap(projection='mill',llcrnrlat=-60,urcrnrlat=80,llcrnrlon=-180,urcrnrlon=180,resolution='c')"
   ]
  },
  {
   "cell_type": "code",
   "execution_count": null,
   "id": "abc83fbd",
   "metadata": {},
   "outputs": [],
   "source": [
    "# Here is just coastlines and country/state borders\n",
    "\n",
    "m.drawcoastlines()\n",
    "m.drawcountries(color='gray')\n",
    "m.drawstates(color='gray')\n",
    "plt.show()"
   ]
  },
  {
   "cell_type": "code",
   "execution_count": null,
   "id": "d7e38e3a",
   "metadata": {},
   "outputs": [],
   "source": [
    "# We can add to this the location of all 1300 QS institutions:\n",
    "\n",
    "m.drawcoastlines()\n",
    "m.drawcountries(color='gray')\n",
    "m.drawstates(color='gray')\n",
    "\n",
    "# creating variable for latitude and longitude to list\n",
    "lat = [float(x) for x in qs2022data['latitude'].tolist()]\n",
    "lon = [float(x) for x in qs2022data['longitude'].tolist()]\n",
    "\n",
    "# plotting the QS locations\n",
    "m.scatter(lon, lat, latlon = True, s = 10, c = 'red', marker = 'o', alpha = 1)\n",
    "\n",
    "plt.show()"
   ]
  },
  {
   "cell_type": "code",
   "execution_count": null,
   "id": "b1950f24",
   "metadata": {},
   "outputs": [],
   "source": [
    "# Or just plot the locations of the QS top 20 institutions:\n",
    "\n",
    "m.drawcoastlines()\n",
    "m.drawcountries(color='gray')\n",
    "m.drawstates(color='gray')\n",
    "\n",
    "qsdata_selection = pd.DataFrame.copy(qs2022data.sort_values(by='rank')[:20])\n",
    "\n",
    "# creating variable for latitude and longitude to list\n",
    "lat = [float(x) for x in qsdata_selection['latitude'].tolist()]\n",
    "lon = [float(x) for x in qsdata_selection['longitude'].tolist()]\n",
    "\n",
    "# plotting the QS locations\n",
    "m.scatter(lon, lat, latlon = True, s = 50, c = 'red', marker = 'o', alpha = 1)\n",
    "\n",
    "plt.show()"
   ]
  },
  {
   "cell_type": "code",
   "execution_count": null,
   "id": "8e5262b4",
   "metadata": {},
   "outputs": [],
   "source": [
    "# Or top 20 by citations - but be careful because by default values are sorted\n",
    "# in descending order (which is correct for rankings), so this is actually the\n",
    "# *bottom* 20 by citations:\n",
    "\n",
    "m.drawcoastlines()\n",
    "m.drawcountries(color='gray')\n",
    "m.drawstates(color='gray')\n",
    "\n",
    "qsdata_selection = pd.DataFrame.copy(qs2022data.sort_values(by='citations')[:20])\n",
    "\n",
    "# creating variable for latitude and longitude to list\n",
    "lat = [float(x) for x in qsdata_selection['latitude'].tolist()]\n",
    "lon = [float(x) for x in qsdata_selection['longitude'].tolist()]\n",
    "\n",
    "# plotting the QS locations\n",
    "m.scatter(lon, lat, latlon = True, s = 50, c = 'red', marker = 'o', alpha = 1)\n",
    "\n",
    "plt.show()"
   ]
  },
  {
   "cell_type": "code",
   "execution_count": null,
   "id": "7474d1f0",
   "metadata": {},
   "outputs": [],
   "source": [
    "# Remember to add asecnding=False to reverse the order and get the top 20 when\n",
    "# looking at citations (or indeed anything ordered by score rather than ranking):\n",
    "\n",
    "m.drawcoastlines()\n",
    "m.drawcountries(color='gray')\n",
    "m.drawstates(color='gray')\n",
    "\n",
    "qsdata_selection = pd.DataFrame.copy(qs2022data.sort_values(by='citations',ascending=False)[:20])\n",
    "\n",
    "# creating variable for latitude and longitude to list\n",
    "lat = [float(x) for x in qsdata_selection['latitude'].tolist()]\n",
    "lon = [float(x) for x in qsdata_selection['longitude'].tolist()]\n",
    "\n",
    "# plotting the QS locations\n",
    "m.scatter(lon, lat, latlon = True, s = 50, c = 'red', marker = 'o', alpha = 1)\n",
    "\n",
    "plt.show()"
   ]
  },
  {
   "cell_type": "code",
   "execution_count": null,
   "id": "ce339bd1",
   "metadata": {},
   "outputs": [],
   "source": [
    "# Basemap can also draw much prettier maps, but takes much longer!:"
   ]
  },
  {
   "cell_type": "code",
   "execution_count": null,
   "id": "ecf64cb9",
   "metadata": {},
   "outputs": [],
   "source": [
    "# setup Lambert Conformal basemap.\n",
    "# set resolution=None to skip processing of boundary datasets.\n",
    "m = Basemap(width=12000000,height=9000000,projection='lcc',\n",
    "            resolution=None,lat_1=45.,lat_2=55,lat_0=50,lon_0=-107.)\n",
    "m.shadedrelief()\n",
    "plt.show()"
   ]
  },
  {
   "cell_type": "markdown",
   "id": "1b1d1c3c",
   "metadata": {},
   "source": [
    "## Plotting some local (EPS) data"
   ]
  },
  {
   "cell_type": "code",
   "execution_count": null,
   "id": "a5fd065c",
   "metadata": {},
   "outputs": [],
   "source": [
    "# This is a file of 2022/23 Research Mobility Fund awards in EPS - awardees, School, (main) partner, title, amount\n",
    "\n",
    "rmf = \"EPS_ISF_details.csv\"\n",
    "rmfdata = pd.read_csv(rmf)"
   ]
  },
  {
   "cell_type": "code",
   "execution_count": null,
   "id": "a2361424",
   "metadata": {},
   "outputs": [],
   "source": [
    "rmfdata"
   ]
  },
  {
   "cell_type": "code",
   "execution_count": null,
   "id": "9cd57017",
   "metadata": {},
   "outputs": [],
   "source": [
    "# As before we can add geographical location data:\n",
    "\n",
    "from geopy.geocoders import Nominatim\n",
    "geolocator = Nominatim(user_agent=\"StackOverFlow\", timeout=3)\n",
    "rmfdata['location_info'] = rmfdata.Partner.apply(lambda x: geolocator.geocode(x, addressdetails=True, language='en'))\n",
    "rmfdata['latitude'] = rmfdata.location_info.apply(lambda x: x.raw['lat'])\n",
    "rmfdata['longitude'] = rmfdata.location_info.apply(lambda x: x.raw['lon'])"
   ]
  },
  {
   "cell_type": "code",
   "execution_count": null,
   "id": "707e6182",
   "metadata": {},
   "outputs": [],
   "source": [
    "# And as before, I've saved this data now so I don't have to look it up again\n",
    "# rmfdata.to_csv('eps_rmf_data_locations.csv')\n",
    "rmfdata_locations = pd.read_csv('eps_rmf_data_locations.csv')"
   ]
  },
  {
   "cell_type": "code",
   "execution_count": null,
   "id": "2791944e",
   "metadata": {},
   "outputs": [],
   "source": [
    "rmfdata_locations"
   ]
  },
  {
   "cell_type": "code",
   "execution_count": null,
   "id": "a2091a01",
   "metadata": {},
   "outputs": [],
   "source": [
    "# Trying to plot this with labels, but looks pretty horrible!\n",
    " \n",
    "\n",
    "fig = plt.figure(figsize=(20,16))\n",
    "m = Basemap(projection='mill',llcrnrlat=-60,urcrnrlat=80,llcrnrlon=-180,urcrnrlon=180,resolution='c')\n",
    "m.drawcoastlines()\n",
    "m.drawcountries(color='gray')\n",
    "m.drawstates(color='gray')\n",
    "\n",
    "# creating variable for latitude and longitude to list\n",
    "lat = [float(x) for x in rmfdata['latitude'].tolist()]\n",
    "lon = [float(x) for x in rmfdata['longitude'].tolist()]\n",
    "\n",
    "# plotting the map\n",
    "m.scatter(lon, lat, latlon = True, s = 30, c = 'red', marker = 'o', alpha = 1)\n",
    "\n",
    "for i, txt in enumerate(rmfdata['Partner'].tolist()):\n",
    "#    plt.annotate(txt, m(lon[i], lat[i]),xycoords='data',xytext=(0, -10), textcoords='offset points', color='r', arrowprops=dict(arrowstyle=\"fancy\", color='g'))\n",
    "    plt.annotate(txt, m(lon[i], lat[i]),xycoords='data',xytext=(0, -10), textcoords='offset points', color='b')\n",
    "\n",
    "#m = Basemap(width=12000000,height=9000000,projection='lcc',resolution=None,lat_1=45.,lat_2=55,lat_0=50,lon_0=-107.)\n",
    "#m.shadedrelief()\n",
    "\n",
    "plt.show()"
   ]
  },
  {
   "cell_type": "code",
   "execution_count": null,
   "id": "fcff24b3",
   "metadata": {},
   "outputs": [],
   "source": [
    "# Messing around with global plots and labels...\n",
    "\n",
    "from mpl_toolkits.basemap import Basemap\n",
    "import matplotlib.pyplot as plt\n",
    "\n",
    "\n",
    "map = Basemap(projection='ortho', \n",
    "              lat_0=0, lon_0=0)\n",
    "\n",
    "map.drawmapboundary(fill_color='aqua')\n",
    "map.fillcontinents(color='coral',lake_color='aqua')\n",
    "map.drawcoastlines()\n",
    "\n",
    "\n",
    "x, y = map(2, 41)\n",
    "x2, y2 = (-90, 10)\n",
    "\n",
    "plt.annotate('Barcelona', xy=(x, y),  xycoords='data',\n",
    "                xytext=(x2, y2), textcoords='offset points',\n",
    "                color='r',\n",
    "                arrowprops=dict(arrowstyle=\"fancy\", color='g')\n",
    "                )\n",
    "\n",
    "x2, y2 = map(0, 0)\n",
    "plt.annotate('Barcelona', xy=(x, y),  xycoords='data',\n",
    "                xytext=(x2, y2), textcoords='data',\n",
    "                arrowprops=dict(arrowstyle=\"->\")\n",
    "                )\n",
    "plt.show()"
   ]
  },
  {
   "cell_type": "code",
   "execution_count": null,
   "id": "4ad9e89d",
   "metadata": {},
   "outputs": [],
   "source": []
  }
 ],
 "metadata": {
  "kernelspec": {
   "display_name": "Python 3 (ipykernel)",
   "language": "python",
   "name": "python3"
  },
  "language_info": {
   "codemirror_mode": {
    "name": "ipython",
    "version": 3
   },
   "file_extension": ".py",
   "mimetype": "text/x-python",
   "name": "python",
   "nbconvert_exporter": "python",
   "pygments_lexer": "ipython3",
   "version": "3.11.3"
  }
 },
 "nbformat": 4,
 "nbformat_minor": 5
}
